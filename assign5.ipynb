{
 "metadata": {
  "language_info": {
   "codemirror_mode": {
    "name": "ipython",
    "version": 3
   },
   "file_extension": ".py",
   "mimetype": "text/x-python",
   "name": "python",
   "nbconvert_exporter": "python",
   "pygments_lexer": "ipython3",
   "version": 3
  },
  "orig_nbformat": 2
 },
 "nbformat": 4,
 "nbformat_minor": 2,
 "cells": [
  {
   "cell_type": "code",
   "execution_count": null,
   "metadata": {},
   "outputs": [],
   "source": [
    "import pandas as pd\n",
    "\n",
    "with open('Mysite.html', 'w') as site:\n",
    "    site.write('<html>')\n",
    "\n",
    "    site.write('<div>')\n",
    "    site.write('<p>Onur Bozkaya 114200027</p>');\n",
    "    site.write('</div>')\n",
    "\n",
    "    site.write('<table>')\n",
    "\n",
    "    file = pd.read_csv(\"Query 2.csv\") \n",
    "    html_table = file.to_html() \n",
    "    site.write(html_table)\n",
    "\n",
    "\n",
    "    site.write('</tr>')\n",
    "    site.write('</table>')\n",
    "    site.write('</body>')\n",
    "    site.write('</html>')"
   ]
  }
 ]
}